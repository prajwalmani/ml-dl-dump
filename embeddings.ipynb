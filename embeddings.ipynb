{
 "cells": [
  {
   "cell_type": "code",
   "execution_count": 5,
   "id": "37a89b55",
   "metadata": {},
   "outputs": [],
   "source": [
    "# !pip install scikit-learn==0.21.3\n",
    "# !pip install wget==3.2\n",
    "# !pip install gensim==3.6.0\n",
    "# !pip install psutil==5.4.8\n",
    "# !pip install spacy==2.2.4"
   ]
  },
  {
   "cell_type": "code",
   "execution_count": 9,
   "id": "86b742ab",
   "metadata": {},
   "outputs": [],
   "source": [
    "import os\n",
    "import wget\n",
    "import gzip\n",
    "import shutil\n",
    "import warnings\n",
    "warnings.filterwarnings(\"ignore\") \n",
    "from gensim.models import Word2Vec,KeyedVectors"
   ]
  },
  {
   "cell_type": "code",
   "execution_count": 10,
   "id": "133b6962",
   "metadata": {},
   "outputs": [],
   "source": [
    "file_zip_path=r'D:\\jupyternotebooks\\Untitled Folder\\GoogleNews-vectors-negative300.bin.gz'\n",
    "file_vec_path=r'D:\\jupyternotebooks\\Untitled Folder\\GoogleNews-vectors-negative300.bin'\n",
    "with gzip.open(file_zip_path,'rb') as f_in:\n",
    "    with open(file_vec_path,'wb') as f_out:\n",
    "        shutil.copyfileobj(f_in,f_out)"
   ]
  },
  {
   "cell_type": "code",
   "execution_count": 11,
   "id": "48519e2b",
   "metadata": {},
   "outputs": [],
   "source": [
    "w2v_model=KeyedVectors.load_word2vec_format(file_vec_path,binary=True)"
   ]
  },
  {
   "cell_type": "code",
   "execution_count": 23,
   "id": "24bd37d5",
   "metadata": {},
   "outputs": [
    {
     "name": "stdout",
     "output_type": "stream",
     "text": [
      "[('really', 0.5752447247505188), ('weird', 0.5676319599151611), ('crazy', 0.5382446050643921), ('kind', 0.5310239195823669), ('maybe', 0.5220046043395996), ('loooove', 0.5187615156173706), ('anymore', 0.5177682042121887), ('Kinda_reminds', 0.5151873826980591), ('definitely', 0.5117844343185425), ('kinda_fishy', 0.5090124607086182)]\n"
     ]
    }
   ],
   "source": [
    "try:\n",
    "    print(w2v_model.most_similar(\"like\"))\n",
    "except:\n",
    "    print(\"word not in vocabulary\")"
   ]
  },
  {
   "cell_type": "code",
   "execution_count": 25,
   "id": "477bcd62",
   "metadata": {},
   "outputs": [
    {
     "name": "stdout",
     "output_type": "stream",
     "text": [
      "word not in vocabulary\n"
     ]
    }
   ],
   "source": [
    "try:\n",
    "    print(w2v_model.most_similar(\"tumb\"))\n",
    "except:\n",
    "    print(\"word not in vocabulary\")"
   ]
  }
 ],
 "metadata": {
  "kernelspec": {
   "display_name": "pacmanenv",
   "language": "python",
   "name": "pacmanenv"
  },
  "language_info": {
   "codemirror_mode": {
    "name": "ipython",
    "version": 3
   },
   "file_extension": ".py",
   "mimetype": "text/x-python",
   "name": "python",
   "nbconvert_exporter": "python",
   "pygments_lexer": "ipython3",
   "version": "3.8.7"
  }
 },
 "nbformat": 4,
 "nbformat_minor": 5
}
