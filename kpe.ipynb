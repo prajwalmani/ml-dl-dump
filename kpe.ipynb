{
 "cells": [
  {
   "cell_type": "code",
   "execution_count": 15,
   "id": "aff3e98b",
   "metadata": {},
   "outputs": [
    {
     "name": "stdout",
     "output_type": "stream",
     "text": [
      "Collecting textacy==0.9.1\n",
      "  Using cached textacy-0.9.1-py3-none-any.whl (203 kB)\n",
      "Requirement already satisfied: cachetools>=2.0.1 in d:\\jupyternotebooks\\pacmanenv\\lib\\site-packages (from textacy==0.9.1) (5.0.0)\n",
      "Requirement already satisfied: scipy>=0.17.0 in d:\\jupyternotebooks\\pacmanenv\\lib\\site-packages (from textacy==0.9.1) (1.8.0)\n",
      "Requirement already satisfied: networkx>=2.0 in d:\\jupyternotebooks\\pacmanenv\\lib\\site-packages (from textacy==0.9.1) (2.8.2)\n",
      "Requirement already satisfied: numpy>=1.17.0 in d:\\jupyternotebooks\\pacmanenv\\lib\\site-packages (from textacy==0.9.1) (1.22.3)\n",
      "Requirement already satisfied: scikit-learn>=0.19.0 in d:\\jupyternotebooks\\pacmanenv\\lib\\site-packages (from textacy==0.9.1) (1.0.2)\n",
      "Requirement already satisfied: spacy>=2.0.12 in d:\\jupyternotebooks\\pacmanenv\\lib\\site-packages (from textacy==0.9.1) (3.3.0)\n",
      "Requirement already satisfied: joblib>=0.13.0 in d:\\jupyternotebooks\\pacmanenv\\lib\\site-packages (from textacy==0.9.1) (1.1.0)\n",
      "Requirement already satisfied: jellyfish>=0.7.0 in d:\\jupyternotebooks\\pacmanenv\\lib\\site-packages (from textacy==0.9.1) (0.9.0)\n",
      "Requirement already satisfied: requests>=2.10.0 in d:\\jupyternotebooks\\pacmanenv\\lib\\site-packages (from textacy==0.9.1) (2.27.1)\n",
      "Requirement already satisfied: pyphen>=0.9.4 in d:\\jupyternotebooks\\pacmanenv\\lib\\site-packages (from textacy==0.9.1) (0.12.0)\n",
      "Requirement already satisfied: cytoolz>=0.8.0 in d:\\jupyternotebooks\\pacmanenv\\lib\\site-packages (from textacy==0.9.1) (0.11.2)\n",
      "Collecting pyemd>=0.5.0\n",
      "  Using cached pyemd-0.5.1.tar.gz (91 kB)\n",
      "Requirement already satisfied: srsly>=0.0.5 in d:\\jupyternotebooks\\pacmanenv\\lib\\site-packages (from textacy==0.9.1) (2.4.3)\n",
      "Requirement already satisfied: tqdm>=4.19.6 in d:\\jupyternotebooks\\pacmanenv\\lib\\site-packages (from textacy==0.9.1) (4.63.1)\n",
      "Requirement already satisfied: threadpoolctl>=2.0.0 in d:\\jupyternotebooks\\pacmanenv\\lib\\site-packages (from scikit-learn>=0.19.0->textacy==0.9.1) (3.1.0)\n",
      "Requirement already satisfied: murmurhash<1.1.0,>=0.28.0 in d:\\jupyternotebooks\\pacmanenv\\lib\\site-packages (from spacy>=2.0.12->textacy==0.9.1) (1.0.7)\n",
      "Requirement already satisfied: cymem<2.1.0,>=2.0.2 in d:\\jupyternotebooks\\pacmanenv\\lib\\site-packages (from spacy>=2.0.12->textacy==0.9.1) (2.0.6)\n",
      "Requirement already satisfied: pydantic!=1.8,!=1.8.1,<1.9.0,>=1.7.4 in d:\\jupyternotebooks\\pacmanenv\\lib\\site-packages (from spacy>=2.0.12->textacy==0.9.1) (1.8.2)\n",
      "Requirement already satisfied: typer<0.5.0,>=0.3.0 in d:\\jupyternotebooks\\pacmanenv\\lib\\site-packages (from spacy>=2.0.12->textacy==0.9.1) (0.4.1)\n",
      "Requirement already satisfied: setuptools in d:\\jupyternotebooks\\pacmanenv\\lib\\site-packages (from spacy>=2.0.12->textacy==0.9.1) (61.3.1)\n",
      "Requirement already satisfied: langcodes<4.0.0,>=3.2.0 in d:\\jupyternotebooks\\pacmanenv\\lib\\site-packages (from spacy>=2.0.12->textacy==0.9.1) (3.3.0)\n",
      "Requirement already satisfied: jinja2 in d:\\jupyternotebooks\\pacmanenv\\lib\\site-packages (from spacy>=2.0.12->textacy==0.9.1) (3.1.1)\n",
      "Requirement already satisfied: spacy-loggers<2.0.0,>=1.0.0 in d:\\jupyternotebooks\\pacmanenv\\lib\\site-packages (from spacy>=2.0.12->textacy==0.9.1) (1.0.2)\n",
      "Requirement already satisfied: spacy-legacy<3.1.0,>=3.0.9 in d:\\jupyternotebooks\\pacmanenv\\lib\\site-packages (from spacy>=2.0.12->textacy==0.9.1) (3.0.9)\n",
      "Requirement already satisfied: preshed<3.1.0,>=3.0.2 in d:\\jupyternotebooks\\pacmanenv\\lib\\site-packages (from spacy>=2.0.12->textacy==0.9.1) (3.0.6)\n",
      "Requirement already satisfied: blis<0.8.0,>=0.4.0 in d:\\jupyternotebooks\\pacmanenv\\lib\\site-packages (from spacy>=2.0.12->textacy==0.9.1) (0.4.1)\n",
      "Requirement already satisfied: thinc<8.1.0,>=8.0.14 in d:\\jupyternotebooks\\pacmanenv\\lib\\site-packages (from spacy>=2.0.12->textacy==0.9.1) (8.0.17)\n",
      "Requirement already satisfied: packaging>=20.0 in d:\\jupyternotebooks\\pacmanenv\\lib\\site-packages (from spacy>=2.0.12->textacy==0.9.1) (21.3)\n",
      "Requirement already satisfied: catalogue<2.1.0,>=2.0.6 in d:\\jupyternotebooks\\pacmanenv\\lib\\site-packages (from spacy>=2.0.12->textacy==0.9.1) (2.0.7)\n",
      "Requirement already satisfied: wasabi<1.1.0,>=0.9.1 in d:\\jupyternotebooks\\pacmanenv\\lib\\site-packages (from spacy>=2.0.12->textacy==0.9.1) (0.9.1)\n",
      "Requirement already satisfied: pathy>=0.3.5 in d:\\jupyternotebooks\\pacmanenv\\lib\\site-packages (from spacy>=2.0.12->textacy==0.9.1) (0.6.1)\n",
      "Requirement already satisfied: charset-normalizer~=2.0.0; python_version >= \"3\" in d:\\jupyternotebooks\\pacmanenv\\lib\\site-packages (from requests>=2.10.0->textacy==0.9.1) (2.0.12)\n",
      "Requirement already satisfied: idna<4,>=2.5; python_version >= \"3\" in d:\\jupyternotebooks\\pacmanenv\\lib\\site-packages (from requests>=2.10.0->textacy==0.9.1) (3.3)\n",
      "Requirement already satisfied: certifi>=2017.4.17 in d:\\jupyternotebooks\\pacmanenv\\lib\\site-packages (from requests>=2.10.0->textacy==0.9.1) (2021.10.8)\n",
      "Requirement already satisfied: urllib3<1.27,>=1.21.1 in d:\\jupyternotebooks\\pacmanenv\\lib\\site-packages (from requests>=2.10.0->textacy==0.9.1) (1.26.9)\n",
      "Requirement already satisfied: toolz>=0.8.0 in d:\\jupyternotebooks\\pacmanenv\\lib\\site-packages (from cytoolz>=0.8.0->textacy==0.9.1) (0.11.2)\n",
      "Requirement already satisfied: colorama; platform_system == \"Windows\" in d:\\jupyternotebooks\\pacmanenv\\lib\\site-packages (from tqdm>=4.19.6->textacy==0.9.1) (0.4.4)\n",
      "Requirement already satisfied: typing-extensions>=3.7.4.3 in d:\\jupyternotebooks\\pacmanenv\\lib\\site-packages (from pydantic!=1.8,!=1.8.1,<1.9.0,>=1.7.4->spacy>=2.0.12->textacy==0.9.1) (4.1.1)\n",
      "Requirement already satisfied: click<9.0.0,>=7.1.1 in d:\\jupyternotebooks\\pacmanenv\\lib\\site-packages (from typer<0.5.0,>=0.3.0->spacy>=2.0.12->textacy==0.9.1) (8.1.2)\n",
      "Requirement already satisfied: MarkupSafe>=2.0 in d:\\jupyternotebooks\\pacmanenv\\lib\\site-packages (from jinja2->spacy>=2.0.12->textacy==0.9.1) (2.1.1)\n",
      "Requirement already satisfied: pyparsing!=3.0.5,>=2.0.2 in d:\\jupyternotebooks\\pacmanenv\\lib\\site-packages (from packaging>=20.0->spacy>=2.0.12->textacy==0.9.1) (3.0.7)\n",
      "Requirement already satisfied: smart-open<6.0.0,>=5.0.0 in d:\\jupyternotebooks\\pacmanenv\\lib\\site-packages (from pathy>=0.3.5->spacy>=2.0.12->textacy==0.9.1) (5.2.1)\n",
      "Building wheels for collected packages: pyemd\n",
      "  Building wheel for pyemd (setup.py): started\n",
      "  Building wheel for pyemd (setup.py): finished with status 'done'\n",
      "  Created wheel for pyemd: filename=pyemd-0.5.1-cp38-cp38-win_amd64.whl size=62275 sha256=38fb31a42c0f61df99267469b6ffff0b7688d5c61b8408cca437c42887b67a51\n",
      "  Stored in directory: c:\\users\\prajw\\appdata\\local\\pip\\cache\\wheels\\a2\\a5\\34\\f960a47ca5c06b0e91b6f48117a79a66f53a879f8fac9529bf\n",
      "Successfully built pyemd\n",
      "Installing collected packages: pyemd, textacy\n",
      "  Attempting uninstall: textacy\n",
      "    Found existing installation: textacy 0.12.0\n",
      "    Uninstalling textacy-0.12.0:\n",
      "      Successfully uninstalled textacy-0.12.0\n",
      "Successfully installed pyemd-0.5.1 textacy-0.9.1\n"
     ]
    },
    {
     "name": "stderr",
     "output_type": "stream",
     "text": [
      "WARNING: You are using pip version 20.2.3; however, version 22.1.2 is available.\n",
      "You should consider upgrading via the 'd:\\jupyternotebooks\\pacmanenv\\scripts\\python.exe -m pip install --upgrade pip' command.\n"
     ]
    }
   ],
   "source": [
    "!pip install textacy==0.9.1"
   ]
  },
  {
   "cell_type": "code",
   "execution_count": 1,
   "id": "2299e792",
   "metadata": {},
   "outputs": [
    {
     "name": "stdout",
     "output_type": "stream",
     "text": [
      "✔ Download and installation successful\n",
      "You can now load the package via spacy.load('en_core_web_sm')\n"
     ]
    }
   ],
   "source": [
    "from spacy.cli import download\n",
    "download(\"en_core_web_sm\")"
   ]
  },
  {
   "cell_type": "code",
   "execution_count": 16,
   "id": "02506734",
   "metadata": {},
   "outputs": [],
   "source": [
    "import spacy\n",
    "import textacy.ke\n",
    "from textacy import *"
   ]
  },
  {
   "cell_type": "code",
   "execution_count": 17,
   "id": "b8d99f1c",
   "metadata": {},
   "outputs": [],
   "source": [
    "en = textacy.load_spacy_lang(\"en_core_web_sm\")"
   ]
  },
  {
   "cell_type": "code",
   "execution_count": 25,
   "id": "20184c23",
   "metadata": {},
   "outputs": [],
   "source": [
    "text_file=open('naruto.txt',encoding=\"utf8\").read()"
   ]
  },
  {
   "cell_type": "code",
   "execution_count": 26,
   "id": "04bc1ca0",
   "metadata": {},
   "outputs": [],
   "source": [
    "doc=textacy.make_spacy_doc(text_file,lang=en)"
   ]
  },
  {
   "cell_type": "code",
   "execution_count": 27,
   "id": "00aee93c",
   "metadata": {},
   "outputs": [
    {
     "data": {
      "text/plain": [
       "[('Naruto Uzumaki', 0.012591941565715461),\n",
       " ('naruto confront Sasuke', 0.012004609591755429),\n",
       " ('ninja village', 0.010614858300784114),\n",
       " ('Sasuke Uchiha', 0.010554170940653354),\n",
       " ('elite ninja Kakashi Hatake', 0.010374540434624512)]"
      ]
     },
     "execution_count": 27,
     "metadata": {},
     "output_type": "execute_result"
    }
   ],
   "source": [
    "textacy.ke.textrank(doc,topn=5)"
   ]
  },
  {
   "cell_type": "code",
   "execution_count": 28,
   "id": "52a3af49",
   "metadata": {},
   "outputs": [
    {
     "data": {
      "text/plain": [
       "[('Naruto', 0.18427284849024322),\n",
       " ('manga series', 0.14430687189217717),\n",
       " ('Viz Media', 0.05413089745011904),\n",
       " ('anime series', 0.04953869764918882),\n",
       " ('English dub', 0.03574273540609354)]"
      ]
     },
     "execution_count": 28,
     "metadata": {},
     "output_type": "execute_result"
    }
   ],
   "source": [
    "textacy.ke.sgrank(doc,topn=5)"
   ]
  },
  {
   "cell_type": "code",
   "execution_count": 31,
   "id": "4d3b3244",
   "metadata": {},
   "outputs": [
    {
     "name": "stdout",
     "output_type": "stream",
     "text": [
      "[Naruto, (Japanese: NARUTOナルト, Japanese manga series, Masashi Kishimoto, It, story, Naruto Uzumaki, young ninja, who, recognition, his peers, dreams, Hokage, leader, his village, story, two parts, Naruto's pre-teen years, his teens, series, two one-shot manga, Kishimoto, Karakuri, which, Kishimoto, honorable mention, Shueisha's monthly Hop Step Award, Naruto, Naruto, Shueisha's magazine, Weekly Shōnen Jump, book, 72 volumes, manga, anime television series, Pierrot, Aniplex, which, 220 episodes, Japan, English dub, series, Cartoon Network, YTV, Naruto, Shippuden, sequel, original series, Japan, 500 episodes, English dub, Disney XD, first 98 episodes, Adult Swim's Toonami programming block, January, first episode, English dub, Adult Swim, day, Viz Media, anime series, their streaming service, Neon Alley, December, 99 episodes, March, 338 episodes, anime series, Pierrot, eleven movies, twelve original video animations, OVAs, Other Naruto-related merchandise, light novels, video games, trading cards, several companies, Viz Media, manga, anime, North American production, Naruto, their digital Weekly Shonen Jump magazine, anime series, United States, Canada, United Kingdom, Australia, films, most OVAs, series, Viz, first film, movie theaters, story, Naruto, Naruto's son, Boruto Uzumaki, Boruto, Naruto Next Generations, Boruto, his own ninja way, his father, Naruto, sixth best-selling manga series, history, 250 million copies, circulation, 47 countries, regions, 153 million copies, Japan, 97 million copies, It, Viz Media's best-selling manga series, their English translations, volumes, USA Today, New York Times bestseller list, seventh volume, Quill Award, Reviewers, manga's character development, strong storylines, well-executed fight scenes, some, fight scenes, story, Critics, manga, which, age, use, cultural references, Japanese mythology, Confucianism, \n",
      "A powerful fox, Nine-Tails attacks, Konoha, hidden leaf village, Land, Fire, Five Great Shinobi Countries, Ninja World, response, leader, Konoha, Fourth Hokage, Minato Namikaze, fox, body, his newborn son, Naruto Uzumaki, Naruto, beast;[i, this, Naruto's father, his life, retirement, leader, Konoha, Naruto, Konoha's villagers, host, Nine-Tails, decree, Third Hokage, mention, events, Naruto, nothing, Nine-Tails, Mizuki, renegade ninja, truth, Naruto, Naruto, Mizuki, combat, respect, his teacher, Naruto, ninja, Sasuke Uchiha, whom, he, Sakura Haruno, whom, he, crush, Team, experienced sensei, elite ninja, Kakashi Hatake, the ninja teams, village, Team, missions, villagers, chores, bodyguards, assassinations, several missions, major one, Land, Waves, Kakashi, Team, ninja exam, them, higher rank, more difficult missions, Chunin Exams, exams, Orochimaru, wanted criminal, Konoha, Third Hokage, revenge, Jiraiya, three legendary ninjas, title, Fifth Hokage, searches, Naruto, Tsunade, whom, he, Fifth Hokage, search, it, Orochimaru, Sasuke, his powerful genetic heritage, Sharingan, Sasuke, his older brother Itachi[iv, who, Konoha, Naruto, he, Orochimaru, him, strength, Itachi, story, turn, Sasuke, village, Tsunade, group, ninja, Naruto, Sasuke, Naruto, him, Naruto, Sakura, Sasuke, Naruto, Konoha, training, Jiraiya, himself, next time, he, Sasuke, Sakura, Tsunade's apprentice, \n",
      "Two and a half years later, Naruto returns, his training, Jiraiya, Akatsuki, hosts, powerful Tailed Beasts, Team, other Leaf ninja fight, them, their teammate, Sasuke, Akatsuki, Tailed Beasts, the hosts, Gaara, who, Kazekage, Sasuke, Orochimaru, Itachi, revenge, Itachi, battle, Sasuke, Akatsuki founder, Tobi, Itachi, Konoha's superiors, his clan, coup, he, condition, Sasuke, revelation, Sasuke, Akatsuki, Konoha, revenge, Konoha ninjas, several Akatsuki members, Akatsuki figurehead leader, Nagato, Jiraiya, Konoha, Naruto defeats, him, village's respect, admiration, Nagato's death, Tobi, Madara Uchiha, Konoha's founding fathers, he, nine Tailed Beasts, illusion, humanity, world peace, leaders, five ninja villages, him, forces, his faction, allies, decision, Fourth Shinobi World War, combined armies, Five Great Countries, Allied Shinobi Forces, Akatsuki's forces, zombie-like ninjas, Five Kage, Naruto, war, secret island turtle, Kumogakure, Hidden Cloud Village, Naruto, island, Killer Bee, host, Eight-Tails, time, Naruto, help, Killer Bee, his Tailed Beast, them, battlefield, conflict, it, Tobi, Obito Uchiha, not Madara, he, Obito, former teammate, Kakashi, who, real Madara, Obito's life, they, Sasuke, history, Konoha, circumstances, that, his clan's downfall, he, village, Naruto, Sakura, Madara and Obito's plans, Madara's body, Kaguya Otsutsuki, ancient princess, who, humanity, reformed Obito sacrifices, himself, Team, her, Kaguya, Madara, Sasuke, advantage, situation, control, the Tailed Beasts, he, his goal, current village system, Naruto confronts, Sasuke, him, his plan, they, final battle, Sasuke, defeat, reforms, war, Kakashi, Sixth Hokage, Sasuke, his crimes, Kakashi, Naruto, Hinata Hyuga, Seventh Hokage, next generation]\n"
     ]
    }
   ],
   "source": [
    "print([chunk for chunk in textacy.extract.noun_chunks(doc)])"
   ]
  },
  {
   "cell_type": "code",
   "execution_count": null,
   "id": "73a89eb3",
   "metadata": {},
   "outputs": [],
   "source": []
  }
 ],
 "metadata": {
  "kernelspec": {
   "display_name": "pacmanenv",
   "language": "python",
   "name": "pacmanenv"
  },
  "language_info": {
   "codemirror_mode": {
    "name": "ipython",
    "version": 3
   },
   "file_extension": ".py",
   "mimetype": "text/x-python",
   "name": "python",
   "nbconvert_exporter": "python",
   "pygments_lexer": "ipython3",
   "version": "3.8.7"
  }
 },
 "nbformat": 4,
 "nbformat_minor": 5
}
